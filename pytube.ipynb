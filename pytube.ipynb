{
  "nbformat": 4,
  "nbformat_minor": 0,
  "metadata": {
    "colab": {
      "name": "Untitled24.ipynb",
      "provenance": [],
      "toc_visible": true,
      "authorship_tag": "ABX9TyPCCTKQuRCcqOu/qcctp5HI",
      "include_colab_link": true
    },
    "kernelspec": {
      "name": "python3",
      "display_name": "Python 3"
    }
  },
  "cells": [
    {
      "cell_type": "markdown",
      "metadata": {
        "id": "view-in-github",
        "colab_type": "text"
      },
      "source": [
        "<a href=\"https://colab.research.google.com/github/Rsr0/JustForFun/blob/main/pytube.ipynb\" target=\"_parent\"><img src=\"https://colab.research.google.com/assets/colab-badge.svg\" alt=\"Open In Colab\"/></a>"
      ]
    },
    {
      "cell_type": "code",
      "metadata": {
        "id": "7O-7msh2NWvj"
      },
      "source": [
        ""
      ],
      "execution_count": null,
      "outputs": []
    },
    {
      "cell_type": "code",
      "metadata": {
        "colab": {
          "base_uri": "https://localhost:8080/"
        },
        "id": "1kgJxVGeN_lo",
        "outputId": "ba82e8ef-ccc4-4e05-a5b2-78596a8906c5"
      },
      "source": [
        "pip install git+https://github.com/nficano/pytube.git"
      ],
      "execution_count": 2,
      "outputs": [
        {
          "output_type": "stream",
          "text": [
            "Collecting git+https://github.com/nficano/pytube.git\n",
            "  Cloning https://github.com/nficano/pytube.git to /tmp/pip-req-build-2r9wkmm9\n",
            "  Running command git clone -q https://github.com/nficano/pytube.git /tmp/pip-req-build-2r9wkmm9\n",
            "Requirement already satisfied: typing_extensions in /usr/local/lib/python3.7/dist-packages (from pytube==10.5.1) (3.7.4.3)\n",
            "Building wheels for collected packages: pytube\n",
            "  Building wheel for pytube (setup.py) ... \u001b[?25l\u001b[?25hdone\n",
            "  Created wheel for pytube: filename=pytube-10.5.1-cp37-none-any.whl size=41778 sha256=118ee3d45e90b8530b22c9c8d2c3d7ba3324f86f3b8b83c7c9b5de7f15ec39c1\n",
            "  Stored in directory: /tmp/pip-ephem-wheel-cache-61z90g71/wheels/5b/8a/06/0917964e90543f272c8e17cd550f7b5748b19a795c24289ec2\n",
            "Successfully built pytube\n",
            "Installing collected packages: pytube\n",
            "Successfully installed pytube-10.5.1\n"
          ],
          "name": "stdout"
        }
      ]
    },
    {
      "cell_type": "code",
      "metadata": {
        "colab": {
          "base_uri": "https://localhost:8080/",
          "height": 52
        },
        "id": "DWjpLSlyN_Ha",
        "outputId": "a01a965c-bd90-479e-f3c5-82859971c78b"
      },
      "source": [
        "from pytube import YouTube\r\n",
        "link=input(\"Paste the Link here: \")\r\n",
        "video=YouTube(link)\r\n",
        "stream=video.streams.get_highest_resolution()\r\n",
        "stream.download()"
      ],
      "execution_count": null,
      "outputs": [
        {
          "output_type": "stream",
          "text": [
            "Paste the Link here: https://www.youtube.com/watch?v=jh66Pjtqr4k\n"
          ],
          "name": "stdout"
        },
        {
          "output_type": "execute_result",
          "data": {
            "application/vnd.google.colaboratory.intrinsic+json": {
              "type": "string"
            },
            "text/plain": [
              "'/content/LUDO Aabaad Barbaad (Full VIdeo) Abhishek B Aditya K Rajkummar R Sanya Fatima  Arijit Pritam.mp4'"
            ]
          },
          "metadata": {
            "tags": []
          },
          "execution_count": 3
        }
      ]
    },
    {
      "cell_type": "code",
      "metadata": {
        "id": "QPKT1jNpOEO3",
        "outputId": "49f3d94e-62a2-45fa-e814-18e704b1f355",
        "colab": {
          "base_uri": "https://localhost:8080/"
        }
      },
      "source": [
        "from pytube import YouTube\r\n",
        "import pytube\r\n",
        "import os\r\n",
        "\r\n",
        "def main():\r\n",
        "    video_url = input('Enter YouTube video URL: ')\r\n",
        "\r\n",
        "    if os.name == 'nt':\r\n",
        "        path = os.getcwd() + '\\\\'\r\n",
        "    else:\r\n",
        "        path = os.getcwd() + '/'\r\n",
        "\r\n",
        "    name = pytube.extract.video_id(video_url)\r\n",
        "    YouTube(video_url).streams.filter(only_audio=True).first().download(filename=name)\r\n",
        "    location = path + name + '.mp4'\r\n",
        "    renametomp3 = path + name + '.mp3'\r\n",
        "\r\n",
        "    if os.name == 'nt':\r\n",
        "        os.system('ren {0} {1}'. format(location, renametomp3))\r\n",
        "    else:\r\n",
        "        os.system('mv {0} {1}'. format(location, renametomp3))\r\n",
        "    \r\n",
        "if __name__ == '__main__':\r\n",
        "    main()"
      ],
      "execution_count": 3,
      "outputs": [
        {
          "output_type": "stream",
          "text": [
            "Enter YouTube video URL: https://youtu.be/ofw4fhLsD18\n"
          ],
          "name": "stdout"
        }
      ]
    },
    {
      "cell_type": "code",
      "metadata": {
        "id": "tcGH5kA9OyaG"
      },
      "source": [
        ""
      ],
      "execution_count": null,
      "outputs": []
    }
  ]
}