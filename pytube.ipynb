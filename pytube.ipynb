{
  "nbformat": 4,
  "nbformat_minor": 0,
  "metadata": {
    "colab": {
      "name": "Untitled24.ipynb",
      "provenance": [],
      "toc_visible": true,
      "authorship_tag": "ABX9TyOl7VzDrOptq2q+g374HWug",
      "include_colab_link": true
    },
    "kernelspec": {
      "name": "python3",
      "display_name": "Python 3"
    }
  },
  "cells": [
    {
      "cell_type": "markdown",
      "metadata": {
        "id": "view-in-github",
        "colab_type": "text"
      },
      "source": [
        "<a href=\"https://colab.research.google.com/github/Rsr0/JustForFun/blob/main/pytube.ipynb\" target=\"_parent\"><img src=\"https://colab.research.google.com/assets/colab-badge.svg\" alt=\"Open In Colab\"/></a>"
      ]
    },
    {
      "cell_type": "code",
      "metadata": {
        "id": "7O-7msh2NWvj"
      },
      "source": [
        ""
      ],
      "execution_count": null,
      "outputs": []
    },
    {
      "cell_type": "code",
      "metadata": {
        "colab": {
          "base_uri": "https://localhost:8080/"
        },
        "id": "1kgJxVGeN_lo",
        "outputId": "bbc02987-2c93-4344-f558-e74917167532"
      },
      "source": [
        "pip install git+https://github.com/nficano/pytube.git"
      ],
      "execution_count": 2,
      "outputs": [
        {
          "output_type": "stream",
          "text": [
            "Collecting git+https://github.com/nficano/pytube.git\n",
            "  Cloning https://github.com/nficano/pytube.git to /tmp/pip-req-build-e3svu2q_\n",
            "  Running command git clone -q https://github.com/nficano/pytube.git /tmp/pip-req-build-e3svu2q_\n",
            "Requirement already satisfied: typing_extensions in /usr/local/lib/python3.7/dist-packages (from pytube==10.5.1) (3.7.4.3)\n",
            "Building wheels for collected packages: pytube\n",
            "  Building wheel for pytube (setup.py) ... \u001b[?25l\u001b[?25hdone\n",
            "  Created wheel for pytube: filename=pytube-10.5.1-cp37-none-any.whl size=41778 sha256=0ce190aa26db41eb92066a82641bfa81df1272d81871b9943c2bce6eb4a3d522\n",
            "  Stored in directory: /tmp/pip-ephem-wheel-cache-b3womt4n/wheels/5b/8a/06/0917964e90543f272c8e17cd550f7b5748b19a795c24289ec2\n",
            "Successfully built pytube\n",
            "Installing collected packages: pytube\n",
            "Successfully installed pytube-10.5.1\n"
          ],
          "name": "stdout"
        }
      ]
    },
    {
      "cell_type": "code",
      "metadata": {
        "colab": {
          "base_uri": "https://localhost:8080/",
          "height": 52
        },
        "id": "DWjpLSlyN_Ha",
        "outputId": "a01a965c-bd90-479e-f3c5-82859971c78b"
      },
      "source": [
        "from pytube import YouTube\r\n",
        "link=input(\"Paste the Link here: \")\r\n",
        "video=YouTube(link)\r\n",
        "stream=video.streams.get_highest_resolution()\r\n",
        "stream.download()"
      ],
      "execution_count": 3,
      "outputs": [
        {
          "output_type": "stream",
          "text": [
            "Paste the Link here: https://www.youtube.com/watch?v=jh66Pjtqr4k\n"
          ],
          "name": "stdout"
        },
        {
          "output_type": "execute_result",
          "data": {
            "application/vnd.google.colaboratory.intrinsic+json": {
              "type": "string"
            },
            "text/plain": [
              "'/content/LUDO Aabaad Barbaad (Full VIdeo) Abhishek B Aditya K Rajkummar R Sanya Fatima  Arijit Pritam.mp4'"
            ]
          },
          "metadata": {
            "tags": []
          },
          "execution_count": 3
        }
      ]
    },
    {
      "cell_type": "code",
      "metadata": {
        "id": "QPKT1jNpOEO3"
      },
      "source": [
        ""
      ],
      "execution_count": null,
      "outputs": []
    }
  ]
}