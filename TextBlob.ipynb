{
  "nbformat": 4,
  "nbformat_minor": 0,
  "metadata": {
    "colab": {
      "name": "Untitled25.ipynb",
      "provenance": [],
      "authorship_tag": "ABX9TyOrI88B44Ay/zBRhKLxTuX6",
      "include_colab_link": true
    },
    "kernelspec": {
      "display_name": "Python 3",
      "name": "python3"
    }
  },
  "cells": [
    {
      "cell_type": "markdown",
      "metadata": {
        "id": "view-in-github",
        "colab_type": "text"
      },
      "source": [
        "<a href=\"https://colab.research.google.com/github/Rsr0/JustForFun/blob/main/spellingCorrection.ipynb\" target=\"_parent\"><img src=\"https://colab.research.google.com/assets/colab-badge.svg\" alt=\"Open In Colab\"/></a>"
      ]
    },
    {
      "cell_type": "code",
      "metadata": {
        "id": "6WVSbh38Zg2c"
      },
      "source": [
        ""
      ],
      "execution_count": null,
      "outputs": []
    },
    {
      "cell_type": "code",
      "metadata": {
        "colab": {
          "base_uri": "https://localhost:8080/"
        },
        "id": "jaBo_kAk_iiW",
        "outputId": "3e5ceb0b-300c-4022-d441-63a2cbecbfe8"
      },
      "source": [
        "from textblob import TextBlob\r\n",
        "words = [\"Artifficial\", \"Inteligence\"]\r\n",
        "corrected_words = []\r\n",
        "for i in words:\r\n",
        "    corrected_words.append(TextBlob(i))\r\n",
        "print(\"Wrong words :\", words)\r\n",
        "print(\"Corrected Words are :\")\r\n",
        "for i in corrected_words:\r\n",
        "    print(i.correct(), end=\" \")\r\n"
      ],
      "execution_count": 21,
      "outputs": [
        {
          "output_type": "stream",
          "text": [
            "Wrong words : ['Artifficial', 'Inteligence']\n",
            "Corrected Words are :\n",
            "Artificial Intelligence "
          ],
          "name": "stdout"
        }
      ]
    },
    {
      "cell_type": "code",
      "metadata": {
        "colab": {
          "base_uri": "https://localhost:8080/"
        },
        "id": "rbTyytQ7_i0S",
        "outputId": "48752090-5be2-44e1-a9d4-cf5be25de073"
      },
      "source": [
        "#Acronyms\r\n",
        "user_input = input(\"Enter the phrase: \")\r\n",
        "text = user_input.split()\r\n",
        "s = \" \"\r\n",
        "\r\n",
        "for i in text:\r\n",
        "  s += str(i[0]).upper()\r\n",
        "\r\n",
        "print(\"{0} - {1}\".format(user_input,s))"
      ],
      "execution_count": 4,
      "outputs": [
        {
          "output_type": "stream",
          "text": [
            "Enter the phrase: Machine Learning\n",
            "Machine Learning -  ML\n"
          ],
          "name": "stdout"
        }
      ]
    },
    {
      "cell_type": "code",
      "metadata": {
        "id": "LOCdmFLKDnpx"
      },
      "source": [
        ""
      ],
      "execution_count": null,
      "outputs": []
    }
  ]
}
