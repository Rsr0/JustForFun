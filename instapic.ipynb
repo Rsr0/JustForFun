{
  "nbformat": 4,
  "nbformat_minor": 0,
  "metadata": {
    "colab": {
      "name": "Untitled28.ipynb",
      "provenance": [],
      "authorship_tag": "ABX9TyOwzF82OjUH4Y+GB1IiQ9Fw",
      "include_colab_link": true
    },
    "kernelspec": {
      "name": "python3",
      "display_name": "Python 3"
    },
    "language_info": {
      "name": "python"
    }
  },
  "cells": [
    {
      "cell_type": "markdown",
      "metadata": {
        "id": "view-in-github",
        "colab_type": "text"
      },
      "source": [
        "<a href=\"https://colab.research.google.com/github/Rsr0/JustForFun/blob/main/instapic.ipynb\" target=\"_parent\"><img src=\"https://colab.research.google.com/assets/colab-badge.svg\" alt=\"Open In Colab\"/></a>"
      ]
    },
    {
      "cell_type": "code",
      "metadata": {
        "colab": {
          "base_uri": "https://localhost:8080/"
        },
        "id": "m8YrkA5t3yfH",
        "outputId": "516eace1-4acb-4403-899f-bd18967d0f5e"
      },
      "source": [
        "!pip install instaloader"
      ],
      "execution_count": 15,
      "outputs": [
        {
          "output_type": "stream",
          "text": [
            "Collecting instaloader\n",
            "\u001b[?25l  Downloading https://files.pythonhosted.org/packages/35/4b/dcf7c70de72aff4b4c3ce6edcebc5a40125446aecf6c982e76ae66fe8538/instaloader-4.7.1.tar.gz (49kB)\n",
            "\r\u001b[K     |██████▋                         | 10kB 17.2MB/s eta 0:00:01\r\u001b[K     |█████████████▏                  | 20kB 22.5MB/s eta 0:00:01\r\u001b[K     |███████████████████▊            | 30kB 26.3MB/s eta 0:00:01\r\u001b[K     |██████████████████████████▎     | 40kB 28.8MB/s eta 0:00:01\r\u001b[K     |████████████████████████████████| 51kB 6.1MB/s \n",
            "\u001b[?25hRequirement already satisfied: requests>=2.4 in /usr/local/lib/python3.7/dist-packages (from instaloader) (2.23.0)\n",
            "Requirement already satisfied: certifi>=2017.4.17 in /usr/local/lib/python3.7/dist-packages (from requests>=2.4->instaloader) (2020.12.5)\n",
            "Requirement already satisfied: urllib3!=1.25.0,!=1.25.1,<1.26,>=1.21.1 in /usr/local/lib/python3.7/dist-packages (from requests>=2.4->instaloader) (1.24.3)\n",
            "Requirement already satisfied: chardet<4,>=3.0.2 in /usr/local/lib/python3.7/dist-packages (from requests>=2.4->instaloader) (3.0.4)\n",
            "Requirement already satisfied: idna<3,>=2.5 in /usr/local/lib/python3.7/dist-packages (from requests>=2.4->instaloader) (2.10)\n",
            "Building wheels for collected packages: instaloader\n",
            "  Building wheel for instaloader (setup.py) ... \u001b[?25l\u001b[?25hdone\n",
            "  Created wheel for instaloader: filename=instaloader-4.7.1-cp37-none-any.whl size=53347 sha256=fa83c0388665834dd314cc628e99e8a0cc360c7b09937ad71905968e2dcd496f\n",
            "  Stored in directory: /root/.cache/pip/wheels/52/58/b1/3b6e77f1ba6db08f757800e8bbb9ac12d465fa3378270b1bb2\n",
            "Successfully built instaloader\n",
            "Installing collected packages: instaloader\n",
            "Successfully installed instaloader-4.7.1\n"
          ],
          "name": "stdout"
        }
      ]
    },
    {
      "cell_type": "code",
      "metadata": {
        "id": "a_pdoPma58eJ"
      },
      "source": [
        "import instaloader"
      ],
      "execution_count": 17,
      "outputs": []
    },
    {
      "cell_type": "code",
      "metadata": {
        "colab": {
          "base_uri": "https://localhost:8080/"
        },
        "id": "vafCJxZ633qu",
        "outputId": "29c1e45f-c675-4176-c746-9860e1c7edf5"
      },
      "source": [
        "ig = instaloader.Instaloader()\n",
        "profile = input(\"Enter Insta Username: \")\n",
        "\n",
        "ig.download_profile(profile, profile_pic_only=True)"
      ],
      "execution_count": 20,
      "outputs": [
        {
          "output_type": "stream",
          "text": [
            "Enter Insta Username: rt_palsara\n",
            "Stored ID 8476425073 for profile rt_palsara.\n",
            "rt_palsara/2019-01-29_16-41-46_UTC_profile_pic.jpg \n"
          ],
          "name": "stdout"
        }
      ]
    },
    {
      "cell_type": "code",
      "metadata": {
        "id": "eIdC3aNb4RSc"
      },
      "source": [
        ""
      ],
      "execution_count": null,
      "outputs": []
    }
  ]
}