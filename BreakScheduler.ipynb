{
  "nbformat": 4,
  "nbformat_minor": 0,
  "metadata": {
    "colab": {
      "name": "Untitled38.ipynb",
      "provenance": [],
      "authorship_tag": "ABX9TyMtLoqUDQ9beR90ve5w92vU",
      "include_colab_link": true
    },
    "kernelspec": {
      "name": "python3",
      "display_name": "Python 3"
    },
    "language_info": {
      "name": "python"
    }
  },
  "cells": [
    {
      "cell_type": "markdown",
      "metadata": {
        "id": "view-in-github",
        "colab_type": "text"
      },
      "source": [
        "<a href=\"https://colab.research.google.com/github/Rsr0/JustForFun/blob/main/BreakScheduler.ipynb\" target=\"_parent\"><img src=\"https://colab.research.google.com/assets/colab-badge.svg\" alt=\"Open In Colab\"/></a>"
      ]
    },
    {
      "cell_type": "code",
      "metadata": {
        "id": "Bfo4rMQM2KGp"
      },
      "source": [
        ""
      ],
      "execution_count": null,
      "outputs": []
    },
    {
      "cell_type": "markdown",
      "metadata": {
        "id": "UmTBy2Uc6Vno"
      },
      "source": [
        "#  Break Scheduler\n",
        "Helps to Schedule the breaks for healthy work-life balance \n"
      ]
    },
    {
      "cell_type": "code",
      "metadata": {
        "id": "7jwBFuGd2Nq6"
      },
      "source": [
        "import time\n",
        "# webbrowser module provides a high-level interface to allow displaying Web-based documents to users. \n",
        "# simply calling the open() and it accepts a URL as the argument.\n",
        "import webbrowser\n",
        "\n",
        "from random import choice"
      ],
      "execution_count": 14,
      "outputs": []
    },
    {
      "cell_type": "code",
      "metadata": {
        "colab": {
          "base_uri": "https://localhost:8080/"
        },
        "id": "omCqN6fa2Z0q",
        "outputId": "d0b79320-59f4-447d-aa22-fc2489db1555"
      },
      "source": [
        "url = \"https://pomofocus.io/\"   # Pomodoro breaks\n",
        "\n",
        "breaks =int(input('Enter the number of breaks you wish to take: '))\n",
        "gap = int(input('Enter the duration between breaks in seconds: '))\n",
        "counter = 0\n",
        "\n"
      ],
      "execution_count": 15,
      "outputs": [
        {
          "output_type": "stream",
          "text": [
            "Enter the number of breaks you wish to take: 2\n",
            "Enter the duration between breaks in seconds: 10\n"
          ],
          "name": "stdout"
        }
      ]
    },
    {
      "cell_type": "code",
      "metadata": {
        "colab": {
          "base_uri": "https://localhost:8080/"
        },
        "id": "g79xCACu3Grg",
        "outputId": "d1739651-60c4-480b-d31d-c22453cb6efc"
      },
      "source": [
        "\n",
        "messages = [\"Time for a break!\", \"Let's take a break!\", \"Have a rest dear!\", \"It's time to relax!\"]\n",
        "print(\"Initiating the Break Scheduler!\")\n",
        "\n",
        "#  random message will be displayed on the screen and the URL will open automatically at every interval\n",
        "while(counter < breaks):\n",
        "    #schedules the break\n",
        "    time.sleep(gap)\n",
        "\n",
        "    #Random message\n",
        "    print(choice(messages))\n",
        "\n",
        "    #opening the browser window\n",
        "    webbrowser.open(url)\n",
        "\n",
        "    counter += 1\n",
        "\n",
        "print(\"Terminating the Break Scheduler!\")"
      ],
      "execution_count": 16,
      "outputs": [
        {
          "output_type": "stream",
          "text": [
            "Initiating the Break Scheduler!\n",
            "Have a rest dear!\n",
            "Have a rest dear!\n",
            "Terminating the Break Scheduler!\n"
          ],
          "name": "stdout"
        }
      ]
    },
    {
      "cell_type": "code",
      "metadata": {
        "id": "EMYSjiYz3a_n"
      },
      "source": [
        ""
      ],
      "execution_count": null,
      "outputs": []
    }
  ]
}