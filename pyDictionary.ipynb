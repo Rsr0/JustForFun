{
  "nbformat": 4,
  "nbformat_minor": 0,
  "metadata": {
    "colab": {
      "name": "Untitled26.ipynb",
      "provenance": [],
      "authorship_tag": "ABX9TyNRq70dQkq5YyANs6Dq7DEZ"
    },
    "kernelspec": {
      "name": "python3",
      "display_name": "Python 3"
    }
  },
  "cells": [
    {
      "cell_type": "code",
      "metadata": {
        "id": "ESMKHKeS6dnR"
      },
      "source": [
        ""
      ],
      "execution_count": null,
      "outputs": []
    },
    {
      "cell_type": "code",
      "metadata": {
        "colab": {
          "base_uri": "https://localhost:8080/"
        },
        "id": "6kkAgH5t6hkF",
        "outputId": "9efcea3f-23b2-486d-ea5b-3c31258c27b5"
      },
      "source": [
        "import moviepy.editor as mp\r\n",
        "clip = mp.VideoFileClip(\"video.mp4\").subclip(0,14)\r\n",
        "clip.audio.write_audiofile(\"audip.mp3\")"
      ],
      "execution_count": null,
      "outputs": [
        {
          "output_type": "stream",
          "text": [
            "[MoviePy] Writing audio in audip.mp3\n"
          ],
          "name": "stdout"
        },
        {
          "output_type": "stream",
          "text": [
            "\n",
            "  0%|          | 0/309 [00:00<?, ?it/s]\u001b[A\n",
            " 33%|███▎      | 101/309 [00:00<00:00, 962.53it/s]\u001b[A\n",
            " 66%|██████▌   | 203/309 [00:00<00:00, 978.52it/s]\u001b[A\n",
            "100%|██████████| 309/309 [00:00<00:00, 981.82it/s]"
          ],
          "name": "stderr"
        },
        {
          "output_type": "stream",
          "text": [
            "[MoviePy] Done.\n"
          ],
          "name": "stdout"
        },
        {
          "output_type": "stream",
          "text": [
            "\n"
          ],
          "name": "stderr"
        }
      ]
    },
    {
      "cell_type": "code",
      "metadata": {
        "id": "DDqSzp2C7Rv0",
        "colab": {
          "base_uri": "https://localhost:8080/"
        },
        "outputId": "73573f64-4dbb-455d-9173-a3ee1da25e3f"
      },
      "source": [
        "!pip install PyDictionary"
      ],
      "execution_count": 1,
      "outputs": [
        {
          "output_type": "stream",
          "text": [
            "Collecting PyDictionary\n",
            "  Downloading https://files.pythonhosted.org/packages/d5/0b/575893d32fd0484f3d05a0d754fd35226fee7257b433576484cd7455e429/PyDictionary-2.0.1-py3-none-any.whl\n",
            "Requirement already satisfied: bs4 in /usr/local/lib/python3.7/dist-packages (from PyDictionary) (0.0.1)\n",
            "Requirement already satisfied: requests in /usr/local/lib/python3.7/dist-packages (from PyDictionary) (2.23.0)\n",
            "Collecting goslate\n",
            "  Downloading https://files.pythonhosted.org/packages/39/0b/50af938a1c3d4f4c595b6a22d37af11ebe666246b05a1a97573e8c8944e5/goslate-1.5.1.tar.gz\n",
            "Requirement already satisfied: click in /usr/local/lib/python3.7/dist-packages (from PyDictionary) (7.1.2)\n",
            "Requirement already satisfied: beautifulsoup4 in /usr/local/lib/python3.7/dist-packages (from bs4->PyDictionary) (4.6.3)\n",
            "Requirement already satisfied: urllib3!=1.25.0,!=1.25.1,<1.26,>=1.21.1 in /usr/local/lib/python3.7/dist-packages (from requests->PyDictionary) (1.24.3)\n",
            "Requirement already satisfied: idna<3,>=2.5 in /usr/local/lib/python3.7/dist-packages (from requests->PyDictionary) (2.10)\n",
            "Requirement already satisfied: chardet<4,>=3.0.2 in /usr/local/lib/python3.7/dist-packages (from requests->PyDictionary) (3.0.4)\n",
            "Requirement already satisfied: certifi>=2017.4.17 in /usr/local/lib/python3.7/dist-packages (from requests->PyDictionary) (2020.12.5)\n",
            "Collecting futures\n",
            "  Downloading https://files.pythonhosted.org/packages/05/80/f41cca0ea1ff69bce7e7a7d76182b47bb4e1a494380a532af3e8ee70b9ec/futures-3.1.1-py3-none-any.whl\n",
            "Building wheels for collected packages: goslate\n",
            "  Building wheel for goslate (setup.py) ... \u001b[?25l\u001b[?25hdone\n",
            "  Created wheel for goslate: filename=goslate-1.5.1-cp37-none-any.whl size=11376 sha256=5997e09cab9432dda79c6f5d0ba24c82906aa870921070c8200f126a2aaf4616\n",
            "  Stored in directory: /root/.cache/pip/wheels/4f/7f/28/6f52271012a7649b54b1a7adaae329b4246bbbf9d1e4f6e51a\n",
            "Successfully built goslate\n",
            "Installing collected packages: futures, goslate, PyDictionary\n",
            "Successfully installed PyDictionary-2.0.1 futures-3.1.1 goslate-1.5.1\n"
          ],
          "name": "stdout"
        }
      ]
    },
    {
      "cell_type": "code",
      "metadata": {
        "colab": {
          "base_uri": "https://localhost:8080/"
        },
        "id": "2PMKbN2_qNOb",
        "outputId": "a4498379-7cb7-4272-bae1-2f15ff32f0c8"
      },
      "source": [
        "from PyDictionary import PyDictionary\r\n",
        "word = input(\"Enter the word: \")\r\n",
        "print(PyDictionary.meaning(word))"
      ],
      "execution_count": 4,
      "outputs": [
        {
          "output_type": "stream",
          "text": [
            "Enter the word: Dictionary\n",
            "{'Noun': ['a reference book containing an alphabetical list of words with information about them']}\n"
          ],
          "name": "stdout"
        }
      ]
    },
    {
      "cell_type": "code",
      "metadata": {
        "id": "t7EhIVO8qhkl"
      },
      "source": [
        ""
      ],
      "execution_count": null,
      "outputs": []
    }
  ]
}