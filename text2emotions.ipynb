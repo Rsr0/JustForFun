{
  "nbformat": 4,
  "nbformat_minor": 0,
  "metadata": {
    "colab": {
      "name": "Untitled36.ipynb",
      "provenance": [],
      "authorship_tag": "ABX9TyMQ1jFYvLmeXzXx61uxfWHC",
      "include_colab_link": true
    },
    "kernelspec": {
      "name": "python3",
      "display_name": "Python 3"
    },
    "language_info": {
      "name": "python"
    }
  },
  "cells": [
    {
      "cell_type": "markdown",
      "metadata": {
        "id": "view-in-github",
        "colab_type": "text"
      },
      "source": [
        "<a href=\"https://colab.research.google.com/github/Rsr0/JustForFun/blob/main/text2emotions.ipynb\" target=\"_parent\"><img src=\"https://colab.research.google.com/assets/colab-badge.svg\" alt=\"Open In Colab\"/></a>"
      ]
    },
    {
      "cell_type": "markdown",
      "metadata": {
        "id": "9ekTb_bCwewo"
      },
      "source": [
        "## Discover the Emotions in text message\n",
        "\n",
        "*   Happy\n",
        "*   Angry\n",
        "*   Surprise\n",
        "*   Sad\n",
        "*   Fear\n",
        "\n",
        "\n"
      ]
    },
    {
      "cell_type": "code",
      "metadata": {
        "colab": {
          "base_uri": "https://localhost:8080/"
        },
        "id": "axNNOCaPwcBG",
        "outputId": "5ad4175a-af4b-45fe-c09f-3cb78d873ce8"
      },
      "source": [
        "!pip install text2emotion"
      ],
      "execution_count": 5,
      "outputs": [
        {
          "output_type": "stream",
          "text": [
            "Requirement already satisfied: text2emotion in /usr/local/lib/python3.7/dist-packages (0.0.5)\n",
            "Requirement already satisfied: emoji>=0.6.0 in /usr/local/lib/python3.7/dist-packages (from text2emotion) (1.2.0)\n",
            "Requirement already satisfied: nltk in /usr/local/lib/python3.7/dist-packages (from text2emotion) (3.2.5)\n",
            "Requirement already satisfied: six in /usr/local/lib/python3.7/dist-packages (from nltk->text2emotion) (1.13.0)\n"
          ],
          "name": "stdout"
        }
      ]
    },
    {
      "cell_type": "code",
      "metadata": {
        "id": "jjkAEgH3wnyO"
      },
      "source": [
        "import text2emotion as te"
      ],
      "execution_count": 6,
      "outputs": []
    },
    {
      "cell_type": "code",
      "metadata": {
        "colab": {
          "base_uri": "https://localhost:8080/"
        },
        "id": "XdLBle7ww5uT",
        "outputId": "a4dfa8f3-57e3-449c-91b7-d674e6c09701"
      },
      "source": [
        "text = input(\"Enter the text/emojis : \")\n",
        "print(te.get_emotion(text))"
      ],
      "execution_count": 38,
      "outputs": [
        {
          "output_type": "stream",
          "text": [
            "Enter the text/emojis : I just love the surprise\n",
            "{'Happy': 0.5, 'Angry': 0.0, 'Surprise': 0.5, 'Sad': 0.0, 'Fear': 0.0}\n"
          ],
          "name": "stdout"
        }
      ]
    },
    {
      "cell_type": "code",
      "metadata": {
        "colab": {
          "base_uri": "https://localhost:8080/",
          "height": 445
        },
        "id": "OVwUC-XVxJlL",
        "outputId": "eda6a99d-e260-45fc-c5e7-1c332526bf21"
      },
      "source": [
        "from matplotlib import pyplot as plt\n",
        "\n",
        "data = list()\n",
        "\n",
        "text = \"I was asked to sign a third party contract a week out from stay. If it wasn't an 8 person group that took a lot of wrangling I would have cancelled the booking straight away. Bathrooms - there are no stand alone bathrooms. Please consider this - you have to clear out the main bedroom to use that bathroom. Other option is you walk through a different bedroom to get to its en-suite. Signs all over the apartment - there are signs everywhere - some helpful - some telling you rules. Perhaps some people like this but It negatively affected our enjoyment of the accommodation. Stairs - lots of them - some had slightly bending wood which caused a minor injury.\"\n",
        "\n",
        "res = te.get_emotion(text)\n",
        "for i,j in res.items():\n",
        "  data.append(j)\n",
        "\n",
        "print(res)\n",
        "print()\n",
        "emotions = ['Happy', 'Angry', 'Surprise', 'Sad', 'Fear']\n",
        "\n",
        "fig = plt.figure(figsize=(15,7))\n",
        "\n",
        "plt.pie(data, labels=emotions)\n",
        "\n",
        "plt.show()"
      ],
      "execution_count": 30,
      "outputs": [
        {
          "output_type": "stream",
          "text": [
            "{'Happy': 0.04, 'Angry': 0.12, 'Surprise': 0.08, 'Sad': 0.33, 'Fear': 0.42}\n",
            "\n"
          ],
          "name": "stdout"
        },
        {
          "output_type": "display_data",
          "data": {
            "image/png": "[encoded data removed]",
            "text/plain": [
              "<Figure size 1080x504 with 1 Axes>"
            ]
          },
          "metadata": {
            "tags": []
          }
        }
      ]
    },
    {
      "cell_type": "code",
      "metadata": {
        "id": "tHcHuesr0gA4"
      },
      "source": [
        ""
      ],
      "execution_count": null,
      "outputs": []
    }
  ]
}